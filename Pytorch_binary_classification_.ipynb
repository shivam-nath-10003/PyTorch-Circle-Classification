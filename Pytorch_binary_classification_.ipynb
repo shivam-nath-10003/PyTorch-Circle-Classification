{
  "nbformat": 4,
  "nbformat_minor": 0,
  "metadata": {
    "colab": {
      "provenance": [],
      "gpuType": "T4"
    },
    "kernelspec": {
      "name": "python3",
      "display_name": "Python 3"
    },
    "language_info": {
      "name": "python"
    },
    "accelerator": "GPU"
  },
  "cells": [
    {
      "cell_type": "code",
      "execution_count": null,
      "metadata": {
        "id": "cgGD2ZacMHzp"
      },
      "outputs": [],
      "source": [
        "import sklearn"
      ]
    },
    {
      "cell_type": "code",
      "source": [
        "from sklearn.datasets import make_circles"
      ],
      "metadata": {
        "id": "d1wXVWVqQIHY"
      },
      "execution_count": null,
      "outputs": []
    },
    {
      "cell_type": "code",
      "source": [
        "n_samples=2500\n",
        "X, y=make_circles(n_samples,\n",
        "                  noise=0.04,\n",
        "                  random_state=13)"
      ],
      "metadata": {
        "id": "dk3MOGpIQPFY"
      },
      "execution_count": null,
      "outputs": []
    },
    {
      "cell_type": "code",
      "source": [
        "len(X)"
      ],
      "metadata": {
        "colab": {
          "base_uri": "https://localhost:8080/"
        },
        "id": "6xa6WWG6QhNu",
        "outputId": "284ef2b1-a0ee-4396-fd00-9a2b5c642d6d"
      },
      "execution_count": null,
      "outputs": [
        {
          "output_type": "execute_result",
          "data": {
            "text/plain": [
              "2500"
            ]
          },
          "metadata": {},
          "execution_count": 127
        }
      ]
    },
    {
      "cell_type": "code",
      "source": [
        "X[:10]"
      ],
      "metadata": {
        "colab": {
          "base_uri": "https://localhost:8080/"
        },
        "id": "uqSNFd0wQibi",
        "outputId": "07885eb4-e6cb-4350-cc89-2f63b05c619b"
      },
      "execution_count": null,
      "outputs": [
        {
          "output_type": "execute_result",
          "data": {
            "text/plain": [
              "array([[-0.67311409, -0.73794342],\n",
              "       [-0.78256228,  0.03649181],\n",
              "       [-0.54578184, -0.81564176],\n",
              "       [-0.90647053, -0.43604953],\n",
              "       [ 0.0749915 , -1.03619747],\n",
              "       [ 0.95928808,  0.36442033],\n",
              "       [-0.90325375, -0.19378161],\n",
              "       [-0.44285759,  0.86805024],\n",
              "       [ 0.71355322, -0.22583218],\n",
              "       [ 0.53174191,  0.56922623]])"
            ]
          },
          "metadata": {},
          "execution_count": 128
        }
      ]
    },
    {
      "cell_type": "code",
      "source": [
        "y[:10]"
      ],
      "metadata": {
        "colab": {
          "base_uri": "https://localhost:8080/"
        },
        "id": "v2FoNzYtQmh2",
        "outputId": "e7b2a0e8-1092-4b9a-fdfe-3ac8295870f2"
      },
      "execution_count": null,
      "outputs": [
        {
          "output_type": "execute_result",
          "data": {
            "text/plain": [
              "array([0, 1, 0, 0, 0, 0, 0, 0, 1, 1])"
            ]
          },
          "metadata": {},
          "execution_count": 129
        }
      ]
    },
    {
      "cell_type": "code",
      "source": [
        "#make dataframe of circle data\n",
        "import pandas as pd\n",
        "circles=pd.DataFrame({'X1' : X[:, 0],\n",
        "                      'X2' : X[:, 1],\n",
        "                      'label': y})\n",
        "\n",
        "circles.head()"
      ],
      "metadata": {
        "colab": {
          "base_uri": "https://localhost:8080/",
          "height": 206
        },
        "id": "uvm8Z4_IQtIB",
        "outputId": "00a8a437-06ac-40e8-c951-22245a8c69e0"
      },
      "execution_count": null,
      "outputs": [
        {
          "output_type": "execute_result",
          "data": {
            "text/plain": [
              "         X1        X2  label\n",
              "0 -0.673114 -0.737943      0\n",
              "1 -0.782562  0.036492      1\n",
              "2 -0.545782 -0.815642      0\n",
              "3 -0.906471 -0.436050      0\n",
              "4  0.074992 -1.036197      0"
            ],
            "text/html": [
              "\n",
              "  <div id=\"df-ed52c798-dea7-427b-84de-5a8eb77242a0\" class=\"colab-df-container\">\n",
              "    <div>\n",
              "<style scoped>\n",
              "    .dataframe tbody tr th:only-of-type {\n",
              "        vertical-align: middle;\n",
              "    }\n",
              "\n",
              "    .dataframe tbody tr th {\n",
              "        vertical-align: top;\n",
              "    }\n",
              "\n",
              "    .dataframe thead th {\n",
              "        text-align: right;\n",
              "    }\n",
              "</style>\n",
              "<table border=\"1\" class=\"dataframe\">\n",
              "  <thead>\n",
              "    <tr style=\"text-align: right;\">\n",
              "      <th></th>\n",
              "      <th>X1</th>\n",
              "      <th>X2</th>\n",
              "      <th>label</th>\n",
              "    </tr>\n",
              "  </thead>\n",
              "  <tbody>\n",
              "    <tr>\n",
              "      <th>0</th>\n",
              "      <td>-0.673114</td>\n",
              "      <td>-0.737943</td>\n",
              "      <td>0</td>\n",
              "    </tr>\n",
              "    <tr>\n",
              "      <th>1</th>\n",
              "      <td>-0.782562</td>\n",
              "      <td>0.036492</td>\n",
              "      <td>1</td>\n",
              "    </tr>\n",
              "    <tr>\n",
              "      <th>2</th>\n",
              "      <td>-0.545782</td>\n",
              "      <td>-0.815642</td>\n",
              "      <td>0</td>\n",
              "    </tr>\n",
              "    <tr>\n",
              "      <th>3</th>\n",
              "      <td>-0.906471</td>\n",
              "      <td>-0.436050</td>\n",
              "      <td>0</td>\n",
              "    </tr>\n",
              "    <tr>\n",
              "      <th>4</th>\n",
              "      <td>0.074992</td>\n",
              "      <td>-1.036197</td>\n",
              "      <td>0</td>\n",
              "    </tr>\n",
              "  </tbody>\n",
              "</table>\n",
              "</div>\n",
              "    <div class=\"colab-df-buttons\">\n",
              "\n",
              "  <div class=\"colab-df-container\">\n",
              "    <button class=\"colab-df-convert\" onclick=\"convertToInteractive('df-ed52c798-dea7-427b-84de-5a8eb77242a0')\"\n",
              "            title=\"Convert this dataframe to an interactive table.\"\n",
              "            style=\"display:none;\">\n",
              "\n",
              "  <svg xmlns=\"http://www.w3.org/2000/svg\" height=\"24px\" viewBox=\"0 -960 960 960\">\n",
              "    <path d=\"M120-120v-720h720v720H120Zm60-500h600v-160H180v160Zm220 220h160v-160H400v160Zm0 220h160v-160H400v160ZM180-400h160v-160H180v160Zm440 0h160v-160H620v160ZM180-180h160v-160H180v160Zm440 0h160v-160H620v160Z\"/>\n",
              "  </svg>\n",
              "    </button>\n",
              "\n",
              "  <style>\n",
              "    .colab-df-container {\n",
              "      display:flex;\n",
              "      gap: 12px;\n",
              "    }\n",
              "\n",
              "    .colab-df-convert {\n",
              "      background-color: #E8F0FE;\n",
              "      border: none;\n",
              "      border-radius: 50%;\n",
              "      cursor: pointer;\n",
              "      display: none;\n",
              "      fill: #1967D2;\n",
              "      height: 32px;\n",
              "      padding: 0 0 0 0;\n",
              "      width: 32px;\n",
              "    }\n",
              "\n",
              "    .colab-df-convert:hover {\n",
              "      background-color: #E2EBFA;\n",
              "      box-shadow: 0px 1px 2px rgba(60, 64, 67, 0.3), 0px 1px 3px 1px rgba(60, 64, 67, 0.15);\n",
              "      fill: #174EA6;\n",
              "    }\n",
              "\n",
              "    .colab-df-buttons div {\n",
              "      margin-bottom: 4px;\n",
              "    }\n",
              "\n",
              "    [theme=dark] .colab-df-convert {\n",
              "      background-color: #3B4455;\n",
              "      fill: #D2E3FC;\n",
              "    }\n",
              "\n",
              "    [theme=dark] .colab-df-convert:hover {\n",
              "      background-color: #434B5C;\n",
              "      box-shadow: 0px 1px 3px 1px rgba(0, 0, 0, 0.15);\n",
              "      filter: drop-shadow(0px 1px 2px rgba(0, 0, 0, 0.3));\n",
              "      fill: #FFFFFF;\n",
              "    }\n",
              "  </style>\n",
              "\n",
              "    <script>\n",
              "      const buttonEl =\n",
              "        document.querySelector('#df-ed52c798-dea7-427b-84de-5a8eb77242a0 button.colab-df-convert');\n",
              "      buttonEl.style.display =\n",
              "        google.colab.kernel.accessAllowed ? 'block' : 'none';\n",
              "\n",
              "      async function convertToInteractive(key) {\n",
              "        const element = document.querySelector('#df-ed52c798-dea7-427b-84de-5a8eb77242a0');\n",
              "        const dataTable =\n",
              "          await google.colab.kernel.invokeFunction('convertToInteractive',\n",
              "                                                    [key], {});\n",
              "        if (!dataTable) return;\n",
              "\n",
              "        const docLinkHtml = 'Like what you see? Visit the ' +\n",
              "          '<a target=\"_blank\" href=https://colab.research.google.com/notebooks/data_table.ipynb>data table notebook</a>'\n",
              "          + ' to learn more about interactive tables.';\n",
              "        element.innerHTML = '';\n",
              "        dataTable['output_type'] = 'display_data';\n",
              "        await google.colab.output.renderOutput(dataTable, element);\n",
              "        const docLink = document.createElement('div');\n",
              "        docLink.innerHTML = docLinkHtml;\n",
              "        element.appendChild(docLink);\n",
              "      }\n",
              "    </script>\n",
              "  </div>\n",
              "\n",
              "\n",
              "<div id=\"df-31c70815-466c-4d8b-83fd-212ef8e419b7\">\n",
              "  <button class=\"colab-df-quickchart\" onclick=\"quickchart('df-31c70815-466c-4d8b-83fd-212ef8e419b7')\"\n",
              "            title=\"Suggest charts\"\n",
              "            style=\"display:none;\">\n",
              "\n",
              "<svg xmlns=\"http://www.w3.org/2000/svg\" height=\"24px\"viewBox=\"0 0 24 24\"\n",
              "     width=\"24px\">\n",
              "    <g>\n",
              "        <path d=\"M19 3H5c-1.1 0-2 .9-2 2v14c0 1.1.9 2 2 2h14c1.1 0 2-.9 2-2V5c0-1.1-.9-2-2-2zM9 17H7v-7h2v7zm4 0h-2V7h2v10zm4 0h-2v-4h2v4z\"/>\n",
              "    </g>\n",
              "</svg>\n",
              "  </button>\n",
              "\n",
              "<style>\n",
              "  .colab-df-quickchart {\n",
              "      --bg-color: #E8F0FE;\n",
              "      --fill-color: #1967D2;\n",
              "      --hover-bg-color: #E2EBFA;\n",
              "      --hover-fill-color: #174EA6;\n",
              "      --disabled-fill-color: #AAA;\n",
              "      --disabled-bg-color: #DDD;\n",
              "  }\n",
              "\n",
              "  [theme=dark] .colab-df-quickchart {\n",
              "      --bg-color: #3B4455;\n",
              "      --fill-color: #D2E3FC;\n",
              "      --hover-bg-color: #434B5C;\n",
              "      --hover-fill-color: #FFFFFF;\n",
              "      --disabled-bg-color: #3B4455;\n",
              "      --disabled-fill-color: #666;\n",
              "  }\n",
              "\n",
              "  .colab-df-quickchart {\n",
              "    background-color: var(--bg-color);\n",
              "    border: none;\n",
              "    border-radius: 50%;\n",
              "    cursor: pointer;\n",
              "    display: none;\n",
              "    fill: var(--fill-color);\n",
              "    height: 32px;\n",
              "    padding: 0;\n",
              "    width: 32px;\n",
              "  }\n",
              "\n",
              "  .colab-df-quickchart:hover {\n",
              "    background-color: var(--hover-bg-color);\n",
              "    box-shadow: 0 1px 2px rgba(60, 64, 67, 0.3), 0 1px 3px 1px rgba(60, 64, 67, 0.15);\n",
              "    fill: var(--button-hover-fill-color);\n",
              "  }\n",
              "\n",
              "  .colab-df-quickchart-complete:disabled,\n",
              "  .colab-df-quickchart-complete:disabled:hover {\n",
              "    background-color: var(--disabled-bg-color);\n",
              "    fill: var(--disabled-fill-color);\n",
              "    box-shadow: none;\n",
              "  }\n",
              "\n",
              "  .colab-df-spinner {\n",
              "    border: 2px solid var(--fill-color);\n",
              "    border-color: transparent;\n",
              "    border-bottom-color: var(--fill-color);\n",
              "    animation:\n",
              "      spin 1s steps(1) infinite;\n",
              "  }\n",
              "\n",
              "  @keyframes spin {\n",
              "    0% {\n",
              "      border-color: transparent;\n",
              "      border-bottom-color: var(--fill-color);\n",
              "      border-left-color: var(--fill-color);\n",
              "    }\n",
              "    20% {\n",
              "      border-color: transparent;\n",
              "      border-left-color: var(--fill-color);\n",
              "      border-top-color: var(--fill-color);\n",
              "    }\n",
              "    30% {\n",
              "      border-color: transparent;\n",
              "      border-left-color: var(--fill-color);\n",
              "      border-top-color: var(--fill-color);\n",
              "      border-right-color: var(--fill-color);\n",
              "    }\n",
              "    40% {\n",
              "      border-color: transparent;\n",
              "      border-right-color: var(--fill-color);\n",
              "      border-top-color: var(--fill-color);\n",
              "    }\n",
              "    60% {\n",
              "      border-color: transparent;\n",
              "      border-right-color: var(--fill-color);\n",
              "    }\n",
              "    80% {\n",
              "      border-color: transparent;\n",
              "      border-right-color: var(--fill-color);\n",
              "      border-bottom-color: var(--fill-color);\n",
              "    }\n",
              "    90% {\n",
              "      border-color: transparent;\n",
              "      border-bottom-color: var(--fill-color);\n",
              "    }\n",
              "  }\n",
              "</style>\n",
              "\n",
              "  <script>\n",
              "    async function quickchart(key) {\n",
              "      const quickchartButtonEl =\n",
              "        document.querySelector('#' + key + ' button');\n",
              "      quickchartButtonEl.disabled = true;  // To prevent multiple clicks.\n",
              "      quickchartButtonEl.classList.add('colab-df-spinner');\n",
              "      try {\n",
              "        const charts = await google.colab.kernel.invokeFunction(\n",
              "            'suggestCharts', [key], {});\n",
              "      } catch (error) {\n",
              "        console.error('Error during call to suggestCharts:', error);\n",
              "      }\n",
              "      quickchartButtonEl.classList.remove('colab-df-spinner');\n",
              "      quickchartButtonEl.classList.add('colab-df-quickchart-complete');\n",
              "    }\n",
              "    (() => {\n",
              "      let quickchartButtonEl =\n",
              "        document.querySelector('#df-31c70815-466c-4d8b-83fd-212ef8e419b7 button');\n",
              "      quickchartButtonEl.style.display =\n",
              "        google.colab.kernel.accessAllowed ? 'block' : 'none';\n",
              "    })();\n",
              "  </script>\n",
              "</div>\n",
              "    </div>\n",
              "  </div>\n"
            ],
            "application/vnd.google.colaboratory.intrinsic+json": {
              "type": "dataframe",
              "variable_name": "circles",
              "summary": "{\n  \"name\": \"circles\",\n  \"rows\": 2500,\n  \"fields\": [\n    {\n      \"column\": \"X1\",\n      \"properties\": {\n        \"dtype\": \"number\",\n        \"std\": 0.6401683762376422,\n        \"min\": -1.0877717461790857,\n        \"max\": 1.0976116287689979,\n        \"num_unique_values\": 2500,\n        \"samples\": [\n          -0.7184173360159967,\n          -0.47549704208341526,\n          -0.8012104556476364\n        ],\n        \"semantic_type\": \"\",\n        \"description\": \"\"\n      }\n    },\n    {\n      \"column\": \"X2\",\n      \"properties\": {\n        \"dtype\": \"number\",\n        \"std\": 0.641780540966437,\n        \"min\": -1.0923586426292258,\n        \"max\": 1.0886519504690213,\n        \"num_unique_values\": 2500,\n        \"samples\": [\n          -0.2712525909202904,\n          0.8880405519239858,\n          -0.06312695694847288\n        ],\n        \"semantic_type\": \"\",\n        \"description\": \"\"\n      }\n    },\n    {\n      \"column\": \"label\",\n      \"properties\": {\n        \"dtype\": \"number\",\n        \"std\": 0,\n        \"min\": 0,\n        \"max\": 1,\n        \"num_unique_values\": 2,\n        \"samples\": [\n          1,\n          0\n        ],\n        \"semantic_type\": \"\",\n        \"description\": \"\"\n      }\n    }\n  ]\n}"
            }
          },
          "metadata": {},
          "execution_count": 130
        }
      ]
    },
    {
      "cell_type": "code",
      "source": [
        "import matplotlib.pyplot as plt\n",
        "\n",
        "plt.scatter(x=X[:,0],\n",
        "            y=X[:,1],\n",
        "            c=y,\n",
        "            cmap=plt.cm.RdYlBu);"
      ],
      "metadata": {
        "colab": {
          "base_uri": "https://localhost:8080/",
          "height": 430
        },
        "id": "YGrkacOWRo_5",
        "outputId": "c248a7d4-1274-4210-aa99-b22b65d8bfdf"
      },
      "execution_count": null,
      "outputs": [
        {
          "output_type": "display_data",
          "data": {
            "text/plain": [
              "<Figure size 640x480 with 1 Axes>"
            ],
            "image/png": "[encoded data removed]"
          },
          "metadata": {}
        }
      ]
    },
    {
      "cell_type": "code",
      "source": [
        "X.shape, y.shape"
      ],
      "metadata": {
        "colab": {
          "base_uri": "https://localhost:8080/"
        },
        "id": "OfRi2vOASamt",
        "outputId": "d7f53f2f-1d35-4dc1-f91f-dd9238bfb440"
      },
      "execution_count": null,
      "outputs": [
        {
          "output_type": "execute_result",
          "data": {
            "text/plain": [
              "((2500, 2), (2500,))"
            ]
          },
          "metadata": {},
          "execution_count": 132
        }
      ]
    },
    {
      "cell_type": "code",
      "source": [
        "#turn data into tensors\n",
        "import torch as tr\n",
        "\n",
        "X=tr.from_numpy(X).type(tr.float32)\n",
        "\n",
        "y=tr.from_numpy(y).type(tr.float32)\n",
        "\n",
        "\n"
      ],
      "metadata": {
        "id": "bDQUQLbVTR9R"
      },
      "execution_count": null,
      "outputs": []
    },
    {
      "cell_type": "code",
      "source": [
        "X[:5], y[:5]"
      ],
      "metadata": {
        "colab": {
          "base_uri": "https://localhost:8080/"
        },
        "id": "pJqdnBeTUFGJ",
        "outputId": "1e68ae44-4b25-426a-9f76-c58bc221c7bd"
      },
      "execution_count": null,
      "outputs": [
        {
          "output_type": "execute_result",
          "data": {
            "text/plain": [
              "(tensor([[-0.6731, -0.7379],\n",
              "         [-0.7826,  0.0365],\n",
              "         [-0.5458, -0.8156],\n",
              "         [-0.9065, -0.4360],\n",
              "         [ 0.0750, -1.0362]]),\n",
              " tensor([0., 1., 0., 0., 0.]))"
            ]
          },
          "metadata": {},
          "execution_count": 134
        }
      ]
    },
    {
      "cell_type": "code",
      "source": [
        "#split data\n",
        "\n",
        "from sklearn.model_selection import train_test_split\n",
        "\n",
        "X_train, X_test, y_train, y_test= train_test_split(X,\n",
        "                                                   y,\n",
        "                                                   test_size=0.2,\n",
        "                                                   random_state=42)"
      ],
      "metadata": {
        "id": "TGAONlmHUI_x"
      },
      "execution_count": null,
      "outputs": []
    },
    {
      "cell_type": "code",
      "source": [
        "len(X_train), len(X_test)"
      ],
      "metadata": {
        "colab": {
          "base_uri": "https://localhost:8080/"
        },
        "id": "NF7JwmXsVSVl",
        "outputId": "0e954e25-4579-4ac6-ed0e-258b0edc2c26"
      },
      "execution_count": null,
      "outputs": [
        {
          "output_type": "execute_result",
          "data": {
            "text/plain": [
              "(2000, 500)"
            ]
          },
          "metadata": {},
          "execution_count": 136
        }
      ]
    },
    {
      "cell_type": "code",
      "source": [
        "#Building model\n",
        "\n",
        "#Building a model to classify red and blue dots of circles\n",
        "\n",
        "import torch as tr\n",
        "from torch import nn\n",
        "device='cuda' if tr.cuda.is_available() else 'cpu'\n",
        "device"
      ],
      "metadata": {
        "colab": {
          "base_uri": "https://localhost:8080/",
          "height": 35
        },
        "id": "WAbnZgCTVbHx",
        "outputId": "83ba7d0d-98d0-4616-8e20-05ae9ae4562c"
      },
      "execution_count": null,
      "outputs": [
        {
          "output_type": "execute_result",
          "data": {
            "text/plain": [
              "'cuda'"
            ],
            "application/vnd.google.colaboratory.intrinsic+json": {
              "type": "string"
            }
          },
          "metadata": {},
          "execution_count": 137
        }
      ]
    },
    {
      "cell_type": "code",
      "source": [
        "X_train.shape, y_train.shape"
      ],
      "metadata": {
        "colab": {
          "base_uri": "https://localhost:8080/"
        },
        "id": "jrwnbLZ9Xq9d",
        "outputId": "f614d4bb-e7ad-46d2-81ae-542bd0885872"
      },
      "execution_count": null,
      "outputs": [
        {
          "output_type": "execute_result",
          "data": {
            "text/plain": [
              "(torch.Size([2000, 2]), torch.Size([2000]))"
            ]
          },
          "metadata": {},
          "execution_count": 138
        }
      ]
    },
    {
      "cell_type": "code",
      "source": [
        "#construct a model\n",
        "\n",
        "class circlemodelv0(nn.Module):\n",
        "  def __init__(self):\n",
        "    super().__init__()\n",
        "    self.layer1=nn.Linear(in_features=2, out_features=128)\n",
        "    self.layer2=nn.ELU()\n",
        "    self.layer3=nn.Linear(in_features=128, out_features=512)\n",
        "    self.layer4=nn.ELU()\n",
        "    self.layer5=nn.Linear(in_features=512, out_features=128)\n",
        "    self.layer6=nn.ELU()\n",
        "    self.layer7=nn.Linear(in_features=128, out_features=1)\n",
        "\n",
        "  def forward(self, x):\n",
        "    return self.layer7(self.layer6(self.layer5(self.layer4(self.layer3(self.layer2(self.layer1(x)))))))"
      ],
      "metadata": {
        "id": "mfkR8FttY8fk"
      },
      "execution_count": null,
      "outputs": []
    },
    {
      "cell_type": "code",
      "source": [
        "model0=circlemodelv0().to(device)\n",
        "\n",
        "model0\n"
      ],
      "metadata": {
        "colab": {
          "base_uri": "https://localhost:8080/"
        },
        "id": "4ALrVkZqa--m",
        "outputId": "0e6578ae-fc62-4226-946a-c2a3d1f264da"
      },
      "execution_count": null,
      "outputs": [
        {
          "output_type": "execute_result",
          "data": {
            "text/plain": [
              "circlemodelv0(\n",
              "  (layer1): Linear(in_features=2, out_features=128, bias=True)\n",
              "  (layer2): ELU(alpha=1.0)\n",
              "  (layer3): Linear(in_features=128, out_features=512, bias=True)\n",
              "  (layer4): ELU(alpha=1.0)\n",
              "  (layer5): Linear(in_features=512, out_features=128, bias=True)\n",
              "  (layer6): ELU(alpha=1.0)\n",
              "  (layer7): Linear(in_features=128, out_features=1, bias=True)\n",
              ")"
            ]
          },
          "metadata": {},
          "execution_count": 140
        }
      ]
    },
    {
      "cell_type": "code",
      "source": [
        "next(model0.parameters()).device"
      ],
      "metadata": {
        "colab": {
          "base_uri": "https://localhost:8080/"
        },
        "id": "vojKlkdsbQS1",
        "outputId": "b292414d-96a7-4660-9d73-2cff6c2ef7e6"
      },
      "execution_count": null,
      "outputs": [
        {
          "output_type": "execute_result",
          "data": {
            "text/plain": [
              "device(type='cuda', index=0)"
            ]
          },
          "metadata": {},
          "execution_count": 141
        }
      ]
    },
    {
      "cell_type": "code",
      "source": [
        "'''\n",
        "model0= nn.Sequential(\n",
        "    nn.Linear(in_features = 2 , out_features = 100),\n",
        "    nn.Linear(in_features = 100 , out_features = 1)\n",
        ").to(device)\n",
        "\n",
        "model0\n",
        "'''"
      ],
      "metadata": {
        "colab": {
          "base_uri": "https://localhost:8080/",
          "height": 53
        },
        "id": "7bwOIupwbaip",
        "outputId": "32ed746e-b83b-427b-fb20-3199149d9953"
      },
      "execution_count": null,
      "outputs": [
        {
          "output_type": "execute_result",
          "data": {
            "text/plain": [
              "'\\nmodel0= nn.Sequential(\\n    nn.Linear(in_features = 2 , out_features = 100),\\n    nn.Linear(in_features = 100 , out_features = 1)\\n).to(device)\\n\\nmodel0\\n'"
            ],
            "application/vnd.google.colaboratory.intrinsic+json": {
              "type": "string"
            }
          },
          "metadata": {},
          "execution_count": 142
        }
      ]
    },
    {
      "cell_type": "code",
      "source": [
        "model0.state_dict()"
      ],
      "metadata": {
        "colab": {
          "base_uri": "https://localhost:8080/"
        },
        "id": "ZL4X91FudKna",
        "outputId": "225afa12-d04e-4dfd-a3ff-c8b66f489c08"
      },
      "execution_count": null,
      "outputs": [
        {
          "output_type": "execute_result",
          "data": {
            "text/plain": [
              "OrderedDict([('layer1.weight',\n",
              "              tensor([[-0.5773, -0.0292],\n",
              "                      [ 0.4392, -0.6857],\n",
              "                      [-0.6855,  0.1465],\n",
              "                      [-0.3793,  0.5138],\n",
              "                      [ 0.6871, -0.4278],\n",
              "                      [-0.5897, -0.1056],\n",
              "                      [ 0.5867, -0.0284],\n",
              "                      [ 0.0492, -0.3260],\n",
              "                      [-0.3493, -0.2277],\n",
              "                      [ 0.4761, -0.5248],\n",
              "                      [ 0.6638, -0.0714],\n",
              "                      [-0.1371,  0.4529],\n",
              "                      [ 0.6777, -0.2435],\n",
              "                      [-0.1307,  0.3219],\n",
              "                      [-0.0698, -0.3771],\n",
              "                      [-0.6490, -0.3618],\n",
              "                      [ 0.1523,  0.4629],\n",
              "                      [ 0.6799, -0.3237],\n",
              "                      [-0.1277, -0.2825],\n",
              "                      [ 0.3301, -0.4829],\n",
              "                      [ 0.6620, -0.6302],\n",
              "                      [ 0.3990, -0.1255],\n",
              "                      [ 0.3736,  0.4630],\n",
              "                      [ 0.6360, -0.2046],\n",
              "                      [-0.4705,  0.5017],\n",
              "                      [ 0.2286,  0.1177],\n",
              "                      [-0.3730,  0.5998],\n",
              "                      [ 0.2775,  0.0370],\n",
              "                      [-0.3801,  0.2030],\n",
              "                      [-0.5321,  0.1641],\n",
              "                      [-0.5836, -0.1571],\n",
              "                      [-0.1645, -0.1807],\n",
              "                      [-0.6328, -0.6656],\n",
              "                      [-0.1823,  0.1156],\n",
              "                      [ 0.4952,  0.6565],\n",
              "                      [ 0.1796, -0.6268],\n",
              "                      [-0.7027, -0.2841],\n",
              "                      [-0.3867,  0.0718],\n",
              "                      [-0.2382, -0.4497],\n",
              "                      [-0.5756,  0.1706],\n",
              "                      [ 0.5813, -0.3720],\n",
              "                      [-0.6590,  0.6403],\n",
              "                      [-0.4960,  0.3731],\n",
              "                      [ 0.1213,  0.5035],\n",
              "                      [-0.3253,  0.3126],\n",
              "                      [ 0.3764,  0.3753],\n",
              "                      [-0.5525,  0.1845],\n",
              "                      [ 0.3704, -0.5900],\n",
              "                      [ 0.3238,  0.1758],\n",
              "                      [-0.1600, -0.0487],\n",
              "                      [ 0.1948, -0.6157],\n",
              "                      [-0.2056, -0.5165],\n",
              "                      [-0.2483, -0.4147],\n",
              "                      [-0.3100,  0.5356],\n",
              "                      [ 0.5135,  0.4742],\n",
              "                      [ 0.5054, -0.4888],\n",
              "                      [-0.6299, -0.0053],\n",
              "                      [-0.5560,  0.6223],\n",
              "                      [ 0.4818,  0.1511],\n",
              "                      [ 0.1904, -0.3436],\n",
              "                      [-0.0031,  0.0413],\n",
              "                      [ 0.1707,  0.1474],\n",
              "                      [ 0.6581, -0.3123],\n",
              "                      [ 0.3702,  0.0824],\n",
              "                      [-0.5841,  0.3467],\n",
              "                      [ 0.5311,  0.6892],\n",
              "                      [ 0.1469, -0.1434],\n",
              "                      [-0.3136,  0.5097],\n",
              "                      [-0.5031, -0.4411],\n",
              "                      [ 0.6298, -0.0366],\n",
              "                      [ 0.3602,  0.0861],\n",
              "                      [-0.2324,  0.0855],\n",
              "                      [ 0.3995, -0.0410],\n",
              "                      [-0.1153, -0.1979],\n",
              "                      [-0.6979,  0.1767],\n",
              "                      [-0.2227, -0.5715],\n",
              "                      [ 0.5766,  0.3382],\n",
              "                      [ 0.0188, -0.3722],\n",
              "                      [-0.1100,  0.4418],\n",
              "                      [-0.1921,  0.3459],\n",
              "                      [-0.0180,  0.6142],\n",
              "                      [-0.6657,  0.2117],\n",
              "                      [-0.6883,  0.6501],\n",
              "                      [ 0.2904,  0.5446],\n",
              "                      [ 0.1673,  0.6996],\n",
              "                      [ 0.6885, -0.0716],\n",
              "                      [ 0.5688,  0.1725],\n",
              "                      [-0.5561,  0.3344],\n",
              "                      [ 0.1652,  0.3901],\n",
              "                      [ 0.1622,  0.0429],\n",
              "                      [-0.4144,  0.2548],\n",
              "                      [-0.1867,  0.2381],\n",
              "                      [ 0.6817,  0.6385],\n",
              "                      [ 0.1314, -0.0627],\n",
              "                      [-0.1212,  0.5577],\n",
              "                      [ 0.3396, -0.0293],\n",
              "                      [ 0.6596,  0.0761],\n",
              "                      [ 0.6540, -0.4815],\n",
              "                      [-0.0942,  0.6839],\n",
              "                      [ 0.6717,  0.1673],\n",
              "                      [-0.1958, -0.3064],\n",
              "                      [ 0.0751,  0.1363],\n",
              "                      [-0.5703,  0.3286],\n",
              "                      [ 0.4361,  0.6190],\n",
              "                      [-0.0112, -0.6612],\n",
              "                      [-0.1437,  0.0147],\n",
              "                      [-0.1980,  0.5708],\n",
              "                      [-0.2904, -0.0452],\n",
              "                      [-0.5358,  0.0257],\n",
              "                      [-0.2753, -0.4452],\n",
              "                      [ 0.5209,  0.2889],\n",
              "                      [-0.5652, -0.6638],\n",
              "                      [ 0.4395,  0.1545],\n",
              "                      [ 0.0716,  0.3246],\n",
              "                      [ 0.0589,  0.4310],\n",
              "                      [ 0.2240,  0.4490],\n",
              "                      [-0.5286, -0.6306],\n",
              "                      [-0.3864,  0.4816],\n",
              "                      [ 0.0556,  0.6785],\n",
              "                      [ 0.5087,  0.1382],\n",
              "                      [ 0.1888,  0.4156],\n",
              "                      [ 0.0531,  0.4298],\n",
              "                      [ 0.2154, -0.6656],\n",
              "                      [ 0.3252,  0.4758],\n",
              "                      [-0.1706,  0.2883],\n",
              "                      [-0.2753,  0.2907],\n",
              "                      [-0.6509,  0.1597],\n",
              "                      [-0.1296,  0.3816]], device='cuda:0')),\n",
              "             ('layer1.bias',\n",
              "              tensor([ 0.6348, -0.0906,  0.0936,  0.0084, -0.1060, -0.2691,  0.0626, -0.5497,\n",
              "                      -0.5363, -0.2847, -0.3947,  0.3764, -0.1323,  0.6445,  0.3915,  0.1526,\n",
              "                      -0.1089,  0.3456,  0.0016,  0.2682, -0.2899, -0.1075, -0.4664, -0.1133,\n",
              "                      -0.4316, -0.5613, -0.4350,  0.0114,  0.0039, -0.2008,  0.2871,  0.0464,\n",
              "                      -0.4499,  0.1853, -0.2790,  0.0302,  0.2507,  0.2300,  0.6857,  0.0313,\n",
              "                       0.7058, -0.4008,  0.5314, -0.2287,  0.3225, -0.6291,  0.0477,  0.2316,\n",
              "                       0.4924, -0.5911, -0.6924, -0.4606,  0.3012,  0.0564, -0.6098, -0.0526,\n",
              "                       0.3390, -0.5996, -0.4817,  0.5770, -0.2591, -0.4167, -0.0707, -0.6235,\n",
              "                      -0.4666, -0.5271, -0.1374,  0.1039, -0.1301,  0.3519, -0.5631,  0.4899,\n",
              "                       0.6971, -0.5076, -0.1813,  0.2530,  0.4201,  0.6238, -0.0875, -0.3076,\n",
              "                       0.4315,  0.6116,  0.6544, -0.1931, -0.0417, -0.3080, -0.3197, -0.0995,\n",
              "                       0.0289,  0.6999,  0.0357,  0.5062,  0.5570,  0.1092, -0.2618, -0.4493,\n",
              "                       0.1100, -0.2911, -0.5202, -0.1639,  0.6972, -0.0663, -0.2442, -0.6606,\n",
              "                       0.4054, -0.0377, -0.5720, -0.5951,  0.0190,  0.0683,  0.6274, -0.3835,\n",
              "                       0.1700, -0.6070, -0.1403, -0.6216,  0.4272,  0.3453,  0.5820,  0.5234,\n",
              "                       0.4609,  0.2190, -0.0981,  0.2317, -0.1569, -0.3399, -0.1731,  0.0967],\n",
              "                     device='cuda:0')),\n",
              "             ('layer3.weight',\n",
              "              tensor([[ 0.0767, -0.0449,  0.0311,  ...,  0.0232, -0.0146, -0.0165],\n",
              "                      [-0.0147,  0.0400, -0.0374,  ...,  0.0368,  0.0809,  0.0840],\n",
              "                      [ 0.0777,  0.0721, -0.0680,  ..., -0.0139,  0.0352,  0.0035],\n",
              "                      ...,\n",
              "                      [ 0.0621, -0.0497,  0.0806,  ..., -0.0869,  0.0535, -0.0232],\n",
              "                      [-0.0114, -0.0474,  0.0342,  ..., -0.0683, -0.0378,  0.0759],\n",
              "                      [ 0.0781,  0.0368,  0.0360,  ...,  0.0120, -0.0622,  0.0738]],\n",
              "                     device='cuda:0')),\n",
              "             ('layer3.bias',\n",
              "              tensor([ 0.0549, -0.0054,  0.0190, -0.0316,  0.0126,  0.0413, -0.0143, -0.0869,\n",
              "                      -0.0507, -0.0663, -0.0319,  0.0055,  0.0046, -0.0243, -0.0609, -0.0326,\n",
              "                       0.0784, -0.0243, -0.0039, -0.0701, -0.0768,  0.0227, -0.0491,  0.0248,\n",
              "                      -0.0619, -0.0762, -0.0456,  0.0575,  0.0785,  0.0236,  0.0674, -0.0375,\n",
              "                       0.0768,  0.0735,  0.0179,  0.0165, -0.0118, -0.0870,  0.0017, -0.0471,\n",
              "                       0.0509, -0.0394,  0.0542,  0.0578,  0.0580,  0.0461, -0.0057, -0.0060,\n",
              "                       0.0544, -0.0380,  0.0570,  0.0244, -0.0801,  0.0613, -0.0297, -0.0735,\n",
              "                      -0.0681, -0.0194,  0.0611,  0.0523, -0.0564, -0.0374, -0.0881,  0.0150,\n",
              "                       0.0401, -0.0866,  0.0509, -0.0715,  0.0751, -0.0145, -0.0381, -0.0059,\n",
              "                      -0.0782,  0.0137,  0.0594, -0.0283,  0.0687, -0.0796,  0.0731, -0.0139,\n",
              "                       0.0793,  0.0282,  0.0661, -0.0388,  0.0578, -0.0007,  0.0775,  0.0571,\n",
              "                      -0.0199, -0.0580,  0.0095,  0.0462, -0.0370, -0.0238, -0.0502,  0.0406,\n",
              "                       0.0335,  0.0261,  0.0709, -0.0388, -0.0690, -0.0822, -0.0216, -0.0083,\n",
              "                       0.0182, -0.0772,  0.0871,  0.0066, -0.0338, -0.0241,  0.0641,  0.0017,\n",
              "                       0.0021,  0.0425, -0.0429, -0.0372, -0.0538,  0.0548, -0.0546,  0.0074,\n",
              "                       0.0846, -0.0045, -0.0566,  0.0450,  0.0691, -0.0823, -0.0179, -0.0209,\n",
              "                       0.0482, -0.0711, -0.0073, -0.0738,  0.0526,  0.0447,  0.0863, -0.0504,\n",
              "                      -0.0526, -0.0026, -0.0654,  0.0694,  0.0732, -0.0226,  0.0147,  0.0492,\n",
              "                      -0.0769, -0.0698,  0.0378,  0.0790, -0.0258, -0.0236,  0.0115, -0.0533,\n",
              "                       0.0417, -0.0224,  0.0646, -0.0208, -0.0745, -0.0045,  0.0064, -0.0097,\n",
              "                      -0.0359,  0.0096, -0.0643, -0.0020, -0.0074,  0.0863,  0.0072, -0.0506,\n",
              "                       0.0465,  0.0832,  0.0606, -0.0622, -0.0482, -0.0838, -0.0507,  0.0829,\n",
              "                       0.0524,  0.0434,  0.0329,  0.0334, -0.0292,  0.0239,  0.0771,  0.0866,\n",
              "                      -0.0732,  0.0035, -0.0645,  0.0871, -0.0873,  0.0318, -0.0829,  0.0444,\n",
              "                      -0.0870,  0.0182,  0.0302, -0.0034, -0.0786, -0.0749,  0.0556,  0.0208,\n",
              "                      -0.0876,  0.0561, -0.0824, -0.0530, -0.0829,  0.0717, -0.0158,  0.0327,\n",
              "                      -0.0618,  0.0515, -0.0247, -0.0175, -0.0275,  0.0179, -0.0694,  0.0145,\n",
              "                       0.0095, -0.0822,  0.0834, -0.0177,  0.0829, -0.0489,  0.0873,  0.0278,\n",
              "                      -0.0596,  0.0712, -0.0107,  0.0707,  0.0596,  0.0574,  0.0058,  0.0423,\n",
              "                       0.0820,  0.0823,  0.0064, -0.0617, -0.0614, -0.0020,  0.0653,  0.0321,\n",
              "                      -0.0032,  0.0265, -0.0759, -0.0512, -0.0463,  0.0079,  0.0089,  0.0254,\n",
              "                      -0.0375, -0.0626,  0.0225,  0.0193,  0.0293,  0.0859,  0.0554,  0.0171,\n",
              "                      -0.0788,  0.0496, -0.0582,  0.0199,  0.0688, -0.0444, -0.0468,  0.0175,\n",
              "                       0.0010, -0.0439, -0.0195,  0.0320,  0.0213,  0.0600, -0.0088,  0.0162,\n",
              "                      -0.0229,  0.0420,  0.0401, -0.0022,  0.0787,  0.0638, -0.0574,  0.0010,\n",
              "                      -0.0654,  0.0344,  0.0793, -0.0050, -0.0496,  0.0346,  0.0750, -0.0453,\n",
              "                      -0.0815,  0.0615, -0.0489,  0.0307,  0.0807,  0.0690,  0.0309, -0.0555,\n",
              "                       0.0366,  0.0582,  0.0686,  0.0718, -0.0622,  0.0621, -0.0043,  0.0654,\n",
              "                      -0.0637, -0.0504, -0.0240,  0.0090, -0.0116, -0.0818,  0.0766, -0.0873,\n",
              "                      -0.0318,  0.0127, -0.0620, -0.0712, -0.0694,  0.0762, -0.0230,  0.0498,\n",
              "                      -0.0392,  0.0659,  0.0016,  0.0404,  0.0308, -0.0806, -0.0178, -0.0002,\n",
              "                      -0.0445,  0.0026,  0.0444,  0.0458,  0.0394, -0.0732,  0.0519, -0.0725,\n",
              "                      -0.0320, -0.0307, -0.0772, -0.0662,  0.0252,  0.0609, -0.0229, -0.0305,\n",
              "                       0.0362, -0.0184, -0.0423,  0.0291,  0.0237,  0.0492, -0.0113,  0.0450,\n",
              "                      -0.0097,  0.0103, -0.0454,  0.0373, -0.0536, -0.0730,  0.0628,  0.0844,\n",
              "                      -0.0364, -0.0312,  0.0446, -0.0334, -0.0736,  0.0606, -0.0618, -0.0408,\n",
              "                       0.0547, -0.0794, -0.0318, -0.0848,  0.0417, -0.0458,  0.0653, -0.0213,\n",
              "                       0.0629,  0.0049,  0.0581,  0.0598, -0.0676,  0.0473,  0.0445,  0.0205,\n",
              "                       0.0709, -0.0351,  0.0122,  0.0226,  0.0398, -0.0801, -0.0577, -0.0105,\n",
              "                      -0.0636, -0.0440, -0.0024, -0.0337,  0.0705, -0.0514, -0.0703,  0.0657,\n",
              "                       0.0874,  0.0654, -0.0426, -0.0556,  0.0062,  0.0323,  0.0599,  0.0310,\n",
              "                      -0.0098, -0.0785, -0.0747, -0.0400,  0.0680,  0.0468,  0.0845,  0.0682,\n",
              "                      -0.0112, -0.0507, -0.0598, -0.0586, -0.0575, -0.0804,  0.0256,  0.0371,\n",
              "                       0.0070,  0.0854, -0.0280,  0.0764,  0.0458,  0.0359, -0.0228,  0.0088,\n",
              "                      -0.0063,  0.0327,  0.0398, -0.0763,  0.0654,  0.0170,  0.0511, -0.0780,\n",
              "                       0.0468, -0.0620, -0.0192, -0.0708,  0.0386, -0.0417,  0.0357, -0.0749,\n",
              "                      -0.0324, -0.0012,  0.0364,  0.0418, -0.0033, -0.0476, -0.0240, -0.0186,\n",
              "                      -0.0427,  0.0230, -0.0588, -0.0663, -0.0113,  0.0746,  0.0115, -0.0607,\n",
              "                      -0.0454, -0.0610, -0.0497,  0.0437, -0.0147, -0.0275,  0.0033, -0.0068,\n",
              "                       0.0463,  0.0688,  0.0711, -0.0826,  0.0855,  0.0568, -0.0751,  0.0519,\n",
              "                      -0.0573, -0.0199,  0.0526, -0.0414, -0.0361, -0.0253, -0.0860, -0.0489,\n",
              "                       0.0335, -0.0399, -0.0020, -0.0542,  0.0170, -0.0008,  0.0592,  0.0507,\n",
              "                       0.0701,  0.0400, -0.0526, -0.0830,  0.0359, -0.0411,  0.0307, -0.0734,\n",
              "                       0.0392, -0.0198,  0.0289,  0.0055, -0.0421, -0.0150, -0.0790, -0.0880],\n",
              "                     device='cuda:0')),\n",
              "             ('layer5.weight',\n",
              "              tensor([[ 0.0136,  0.0181, -0.0145,  ..., -0.0162, -0.0427,  0.0312],\n",
              "                      [ 0.0192,  0.0003,  0.0298,  ..., -0.0437, -0.0094, -0.0111],\n",
              "                      [-0.0256, -0.0078, -0.0385,  ..., -0.0191,  0.0410, -0.0321],\n",
              "                      ...,\n",
              "                      [-0.0277, -0.0105,  0.0290,  ...,  0.0050, -0.0124,  0.0080],\n",
              "                      [-0.0266, -0.0214,  0.0068,  ...,  0.0226, -0.0395,  0.0016],\n",
              "                      [-0.0408, -0.0376,  0.0094,  ..., -0.0014,  0.0332,  0.0181]],\n",
              "                     device='cuda:0')),\n",
              "             ('layer5.bias',\n",
              "              tensor([-4.0434e-02,  2.3007e-02,  3.4890e-02, -4.3821e-02, -3.5317e-02,\n",
              "                      -9.8496e-03,  3.9809e-02, -1.0758e-02, -1.6500e-02, -6.5296e-05,\n",
              "                      -3.7018e-02, -1.6690e-02, -3.9909e-02,  1.8759e-02, -4.0285e-02,\n",
              "                       1.1716e-02,  2.3240e-02, -1.7565e-02, -1.3615e-02,  2.2318e-02,\n",
              "                       3.8265e-02,  4.1469e-02,  2.5283e-02, -1.0483e-02,  1.2469e-02,\n",
              "                       3.4615e-02,  2.5757e-02,  2.4793e-02, -2.9547e-02,  3.2717e-02,\n",
              "                       4.2363e-02, -3.9968e-02, -1.3960e-02,  2.8012e-02, -4.6854e-03,\n",
              "                       2.8888e-02, -3.5409e-02,  2.1960e-02, -9.9045e-03,  1.0377e-02,\n",
              "                      -1.5449e-02, -5.9424e-04, -4.3697e-02,  2.2693e-02, -3.7830e-02,\n",
              "                      -4.2807e-02,  8.7702e-03, -1.4524e-02,  1.8612e-02,  1.1802e-03,\n",
              "                      -3.8445e-02, -4.0314e-02, -3.6488e-03,  4.2749e-02, -3.1210e-02,\n",
              "                       3.9663e-02, -1.7166e-02, -1.2839e-02, -1.1146e-02,  4.2798e-02,\n",
              "                      -3.1693e-02,  3.6333e-02,  3.2593e-02,  3.7773e-02, -6.7111e-03,\n",
              "                      -1.8671e-02,  3.2914e-02, -3.6900e-02,  2.3632e-02, -3.2523e-02,\n",
              "                       8.5019e-04,  1.2154e-03, -3.8164e-02,  1.3728e-03, -4.3333e-02,\n",
              "                      -1.9784e-02,  9.8163e-03,  3.7435e-02,  1.2008e-02,  3.6261e-02,\n",
              "                      -2.2206e-02, -8.2503e-03,  3.6760e-02,  2.1584e-02, -3.0317e-02,\n",
              "                      -3.0001e-02, -1.9632e-03, -1.1389e-02, -1.4955e-02,  3.7492e-02,\n",
              "                      -3.5395e-02,  1.5847e-02, -1.8854e-02, -3.4759e-02,  2.5808e-02,\n",
              "                      -1.7570e-02, -2.7095e-02,  2.3416e-02,  7.0653e-03, -4.2341e-02,\n",
              "                      -3.4419e-02, -3.7275e-02, -3.9939e-02,  1.9720e-02, -3.1148e-02,\n",
              "                      -4.1881e-02, -4.7876e-03,  3.3519e-02, -1.2569e-02,  2.3480e-02,\n",
              "                       1.6591e-02, -2.1207e-02, -3.0893e-02,  2.8310e-02,  2.7240e-02,\n",
              "                      -3.5880e-03, -1.5853e-02, -2.2418e-02,  1.0793e-02,  1.7585e-02,\n",
              "                       3.6812e-02, -1.1982e-02, -2.9318e-02,  2.6390e-02,  1.3195e-02,\n",
              "                      -3.6757e-02, -2.7290e-02, -2.3174e-03], device='cuda:0')),\n",
              "             ('layer7.weight',\n",
              "              tensor([[ 1.1620e-02, -8.5639e-02, -6.6877e-02, -8.0952e-02,  2.7579e-02,\n",
              "                        1.9623e-02, -1.0036e-03, -2.9829e-02,  8.3142e-02,  5.4027e-02,\n",
              "                        4.6289e-02, -3.0181e-02, -6.2378e-02,  8.1695e-03,  5.6371e-02,\n",
              "                        4.8387e-03, -3.7907e-02,  5.8861e-02,  1.2651e-02,  4.2191e-02,\n",
              "                        7.6536e-02, -8.0333e-02,  8.7216e-02, -4.0199e-02,  7.7249e-02,\n",
              "                        4.4530e-02, -2.6823e-03,  8.2702e-02, -6.9716e-02,  2.6923e-02,\n",
              "                       -2.5195e-02,  8.0964e-02,  4.6991e-02,  8.8075e-03,  7.3190e-03,\n",
              "                       -6.3733e-02,  7.7301e-02, -1.9624e-02,  1.4959e-02, -6.5327e-02,\n",
              "                        7.7213e-03,  6.8894e-02,  9.2142e-03, -1.9928e-02, -9.2884e-03,\n",
              "                       -4.9746e-02,  6.5617e-02,  1.9783e-02, -6.9640e-02,  3.1817e-02,\n",
              "                       -2.5705e-02, -6.4268e-02,  3.2621e-02, -2.5929e-02,  5.9170e-02,\n",
              "                        7.7197e-03,  4.4901e-02,  8.0607e-02, -7.3721e-02, -5.0359e-02,\n",
              "                        2.2733e-03, -3.2717e-02,  2.8477e-02,  6.0514e-02, -7.8094e-03,\n",
              "                        1.2352e-02, -6.0493e-02, -1.0478e-02, -3.6191e-02,  7.0384e-02,\n",
              "                        4.7322e-02,  8.3473e-03, -1.0933e-02, -7.8301e-02, -5.7401e-02,\n",
              "                       -7.8237e-02, -7.5052e-02, -6.1079e-02, -1.7161e-02,  3.5546e-02,\n",
              "                       -8.2128e-02, -6.4070e-02,  8.8346e-02,  6.9969e-02, -9.9703e-04,\n",
              "                       -7.9585e-02,  5.3320e-02,  1.8813e-02, -5.4524e-02,  5.5973e-02,\n",
              "                       -4.5051e-02, -5.2802e-02, -2.3854e-02,  5.9345e-02,  3.8968e-02,\n",
              "                       -2.9160e-02,  2.4376e-02, -5.9900e-02,  3.1565e-02, -2.1725e-02,\n",
              "                        1.6700e-04,  6.4984e-02,  6.4288e-02,  4.1821e-02,  1.9829e-02,\n",
              "                        6.7373e-03, -2.9464e-02,  8.7173e-02, -3.8717e-02,  8.3825e-02,\n",
              "                       -2.5714e-04, -2.2591e-02, -6.7278e-02,  5.8383e-02, -1.9551e-02,\n",
              "                       -1.2903e-02, -6.4627e-02, -3.9983e-02,  8.5600e-05, -4.8923e-03,\n",
              "                       -8.0263e-03,  2.3696e-02, -2.7145e-02,  1.2283e-02,  4.5155e-02,\n",
              "                       -8.9484e-03, -1.4730e-02, -2.8115e-02]], device='cuda:0')),\n",
              "             ('layer7.bias', tensor([0.0783], device='cuda:0'))])"
            ]
          },
          "metadata": {},
          "execution_count": 143
        }
      ]
    },
    {
      "cell_type": "code",
      "source": [
        " #untrained predictions\n",
        "with tr.inference_mode():\n",
        "  untrained_preds=model0(X_test.to(device))\n",
        "\n",
        "print(len(untrained_preds), untrained_preds.shape)\n",
        "\n",
        "print(len(X_test), X_test.shape)\n",
        "\n",
        "print(untrained_preds[:10])\n",
        "print(y_test[:10])"
      ],
      "metadata": {
        "colab": {
          "base_uri": "https://localhost:8080/"
        },
        "id": "sNqwDOSTeLZr",
        "outputId": "76f02e20-2ba0-439b-9ed7-d414e7c2d66b"
      },
      "execution_count": null,
      "outputs": [
        {
          "output_type": "stream",
          "name": "stdout",
          "text": [
            "500 torch.Size([500, 1])\n",
            "500 torch.Size([500, 2])\n",
            "tensor([[ 0.0413],\n",
            "        [ 0.0096],\n",
            "        [ 0.0355],\n",
            "        [ 0.0391],\n",
            "        [ 0.0309],\n",
            "        [ 0.0735],\n",
            "        [ 0.0694],\n",
            "        [-0.0020],\n",
            "        [ 0.0662],\n",
            "        [ 0.0210]], device='cuda:0')\n",
            "tensor([1., 0., 1., 0., 0., 1., 0., 1., 0., 1.])\n"
          ]
        }
      ]
    },
    {
      "cell_type": "code",
      "source": [
        "#loss function and optimizer setup\n",
        "\n",
        "#loss using will be Binary Cross Entropy\n",
        "\n",
        "loss_fn=nn.BCEWithLogitsLoss()  #inbuilt sigmoid activation function\n",
        "\n",
        "optimizer=tr.optim.SGD(params=model0.parameters(),\n",
        "                       lr=0.001)\n"
      ],
      "metadata": {
        "id": "RK1_IYNrfl_c"
      },
      "execution_count": null,
      "outputs": []
    },
    {
      "cell_type": "code",
      "source": [
        "#finding accuracy\n",
        "\n",
        "def accuracy_fn(y_true, y_pred):\n",
        "  correct=tr.eq(y_true, y_pred).sum().item()\n",
        "\n",
        "  acc = (correct/len(y_pred)) * 100\n",
        "  return acc\n"
      ],
      "metadata": {
        "id": "h-SOC67G6cN4"
      },
      "execution_count": null,
      "outputs": []
    },
    {
      "cell_type": "code",
      "source": [
        "#logits are raw outputs. --> model prediction probabilities by passing through activation function --> prediction labels by rounding off or, aking argmax()\n",
        "\n",
        "model0.eval()\n",
        "with tr.inference_mode():\n",
        "  y_logits=model0(X_test.to(device))[:5]\n",
        "\n",
        "y_logits"
      ],
      "metadata": {
        "colab": {
          "base_uri": "https://localhost:8080/"
        },
        "id": "Y9wMRd2_7H-w",
        "outputId": "f36ada8c-377e-4601-a04a-29ba62ed2fb9"
      },
      "execution_count": null,
      "outputs": [
        {
          "output_type": "execute_result",
          "data": {
            "text/plain": [
              "tensor([[0.0413],\n",
              "        [0.0096],\n",
              "        [0.0355],\n",
              "        [0.0391],\n",
              "        [0.0309]], device='cuda:0')"
            ]
          },
          "metadata": {},
          "execution_count": 147
        }
      ]
    },
    {
      "cell_type": "code",
      "source": [
        "y_test[:5]"
      ],
      "metadata": {
        "colab": {
          "base_uri": "https://localhost:8080/"
        },
        "id": "ifTtZzlk7U01",
        "outputId": "2daed279-5923-4388-e58b-c9134ab0b5ad"
      },
      "execution_count": null,
      "outputs": [
        {
          "output_type": "execute_result",
          "data": {
            "text/plain": [
              "tensor([1., 0., 1., 0., 0.])"
            ]
          },
          "metadata": {},
          "execution_count": 148
        }
      ]
    },
    {
      "cell_type": "code",
      "source": [
        "#use sigmoid function to convert to model predictions\n",
        "y_pred_probs = tr.sigmoid(y_logits)\n",
        "\n",
        "y_pred_probs"
      ],
      "metadata": {
        "colab": {
          "base_uri": "https://localhost:8080/"
        },
        "id": "2tLLCcX39D43",
        "outputId": "617ae47c-e851-418e-ded1-43ca10add660"
      },
      "execution_count": null,
      "outputs": [
        {
          "output_type": "execute_result",
          "data": {
            "text/plain": [
              "tensor([[0.5103],\n",
              "        [0.5024],\n",
              "        [0.5089],\n",
              "        [0.5098],\n",
              "        [0.5077]], device='cuda:0')"
            ]
          },
          "metadata": {},
          "execution_count": 149
        }
      ]
    },
    {
      "cell_type": "code",
      "source": [
        "y_preds=tr.round(y_pred_probs)\n",
        "y_preds"
      ],
      "metadata": {
        "colab": {
          "base_uri": "https://localhost:8080/"
        },
        "id": "KbLx3n6d9V6D",
        "outputId": "70750a51-a053-4119-a428-72b0196715c1"
      },
      "execution_count": null,
      "outputs": [
        {
          "output_type": "execute_result",
          "data": {
            "text/plain": [
              "tensor([[1.],\n",
              "        [1.],\n",
              "        [1.],\n",
              "        [1.],\n",
              "        [1.]], device='cuda:0')"
            ]
          },
          "metadata": {},
          "execution_count": 150
        }
      ]
    },
    {
      "cell_type": "code",
      "source": [
        "y_pred_labels=tr.round(tr.sigmoid(model0(X_test.to(device))[:5]))\n",
        "y_pred_labels"
      ],
      "metadata": {
        "colab": {
          "base_uri": "https://localhost:8080/"
        },
        "id": "e_nxb7DH9bWM",
        "outputId": "2e8b7197-d4c4-464c-b925-f8ad80299f26"
      },
      "execution_count": null,
      "outputs": [
        {
          "output_type": "execute_result",
          "data": {
            "text/plain": [
              "tensor([[1.],\n",
              "        [1.],\n",
              "        [1.],\n",
              "        [1.],\n",
              "        [1.]], device='cuda:0', grad_fn=<RoundBackward0>)"
            ]
          },
          "metadata": {},
          "execution_count": 151
        }
      ]
    },
    {
      "cell_type": "code",
      "source": [
        "print(tr.eq(y_pred_labels.squeeze() , y_preds.squeeze()))\n"
      ],
      "metadata": {
        "colab": {
          "base_uri": "https://localhost:8080/"
        },
        "id": "BnmQeAy1_H5E",
        "outputId": "75be48b5-7eb9-4bc4-b350-99258c1d4164"
      },
      "execution_count": null,
      "outputs": [
        {
          "output_type": "stream",
          "name": "stdout",
          "text": [
            "tensor([True, True, True, True, True], device='cuda:0')\n"
          ]
        }
      ]
    },
    {
      "cell_type": "code",
      "source": [
        "#building training and testing loop\n",
        "tr.manual_seed(13)\n",
        "\n",
        "epochs = 20000\n",
        "\n",
        "X_train, y_train = X_train.to(device) , y_train.to(device)\n",
        "\n",
        "X_test, y_test = X_test.to(device) , y_test.to(device)\n",
        "\n",
        "for epoch in range(epochs):\n",
        "  model0.train\n",
        "\n",
        "  y_logits = model0(X_train).squeeze()\n",
        "  y_pred= tr.round(tr.sigmoid(y_logits))\n",
        "\n",
        "  loss= loss_fn(y_logits,  #nn.BCEWithLogitsLoss expects raw logits as inputs,\n",
        "                y_train)   #nn.BCELoss expects prediction probabilities as inputs, tr.sigmoid(y_logits)\n",
        "\n",
        "  accuracy=accuracy_fn(y_true = y_train,\n",
        "                       y_pred = y_pred)\n",
        "\n",
        "  optimizer.zero_grad()\n",
        "\n",
        "  loss.backward()\n",
        "\n",
        "  optimizer.step()\n",
        "\n",
        "  model0.eval()\n",
        "  with tr.inference_mode():\n",
        "    test_logits= model0(X_test).squeeze()\n",
        "    test_pred=tr.round(tr.sigmoid(test_logits))\n",
        "\n",
        "    test_loss=loss_fn(test_logits,\n",
        "                      y_test)\n",
        "\n",
        "    test_accuracy=accuracy_fn(y_true = y_test,\n",
        "                              y_pred = test_pred)\n",
        "\n",
        "  if epoch % 1000==0:\n",
        "    print(f'epochs:{epoch} , Loss;{loss:.6f} , Accuracy : {accuracy:.2f}% , Test Loss:{test_loss:.5f} , Test Accuracy : {test_accuracy:.2f}%')"
      ],
      "metadata": {
        "colab": {
          "base_uri": "https://localhost:8080/"
        },
        "id": "Ws09Ot6K_KmY",
        "outputId": "ea72f6f7-23ff-4ce4-829f-d0331d05bc8c"
      },
      "execution_count": null,
      "outputs": [
        {
          "output_type": "stream",
          "name": "stdout",
          "text": [
            "epochs:0 , Loss;0.693844 , Accuracy : 55.95% , Test Loss:0.69166 , Test Accuracy : 58.00%\n",
            "epochs:1000 , Loss;0.692206 , Accuracy : 66.45% , Test Loss:0.69187 , Test Accuracy : 68.60%\n",
            "epochs:2000 , Loss;0.690889 , Accuracy : 61.65% , Test Loss:0.69113 , Test Accuracy : 59.20%\n",
            "epochs:3000 , Loss;0.689583 , Accuracy : 60.05% , Test Loss:0.69006 , Test Accuracy : 56.80%\n",
            "epochs:4000 , Loss;0.688230 , Accuracy : 61.75% , Test Loss:0.68880 , Test Accuracy : 59.00%\n",
            "epochs:5000 , Loss;0.686801 , Accuracy : 64.85% , Test Loss:0.68738 , Test Accuracy : 62.20%\n",
            "epochs:6000 , Loss;0.685267 , Accuracy : 69.55% , Test Loss:0.68582 , Test Accuracy : 67.80%\n",
            "epochs:7000 , Loss;0.683602 , Accuracy : 74.55% , Test Loss:0.68410 , Test Accuracy : 74.00%\n",
            "epochs:8000 , Loss;0.681774 , Accuracy : 79.05% , Test Loss:0.68221 , Test Accuracy : 77.40%\n",
            "epochs:9000 , Loss;0.679750 , Accuracy : 82.15% , Test Loss:0.68011 , Test Accuracy : 80.00%\n",
            "epochs:10000 , Loss;0.677490 , Accuracy : 84.40% , Test Loss:0.67775 , Test Accuracy : 82.80%\n",
            "epochs:11000 , Loss;0.674946 , Accuracy : 86.15% , Test Loss:0.67511 , Test Accuracy : 85.60%\n",
            "epochs:12000 , Loss;0.672061 , Accuracy : 87.90% , Test Loss:0.67211 , Test Accuracy : 88.20%\n",
            "epochs:13000 , Loss;0.668767 , Accuracy : 89.35% , Test Loss:0.66868 , Test Accuracy : 89.00%\n",
            "epochs:14000 , Loss;0.664986 , Accuracy : 90.40% , Test Loss:0.66475 , Test Accuracy : 90.40%\n",
            "epochs:15000 , Loss;0.660621 , Accuracy : 91.55% , Test Loss:0.66021 , Test Accuracy : 91.40%\n",
            "epochs:16000 , Loss;0.655550 , Accuracy : 92.25% , Test Loss:0.65493 , Test Accuracy : 91.80%\n",
            "epochs:17000 , Loss;0.649627 , Accuracy : 93.50% , Test Loss:0.64878 , Test Accuracy : 92.60%\n",
            "epochs:18000 , Loss;0.642676 , Accuracy : 94.30% , Test Loss:0.64157 , Test Accuracy : 93.00%\n",
            "epochs:19000 , Loss;0.634482 , Accuracy : 95.00% , Test Loss:0.63307 , Test Accuracy : 93.20%\n"
          ]
        }
      ]
    },
    {
      "cell_type": "code",
      "source": [],
      "metadata": {
        "id": "NKTIIMAsEXdg"
      },
      "execution_count": null,
      "outputs": []
    }
  ]
}